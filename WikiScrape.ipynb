{
  "nbformat": 4,
  "nbformat_minor": 0,
  "metadata": {
    "colab": {
      "provenance": [],
      "authorship_tag": "ABX9TyM/4Bt4OAZ3EtNximmIoL0b",
      "include_colab_link": true
    },
    "kernelspec": {
      "name": "python3",
      "display_name": "Python 3"
    },
    "language_info": {
      "name": "python"
    }
  },
  "cells": [
    {
      "cell_type": "markdown",
      "metadata": {
        "id": "view-in-github",
        "colab_type": "text"
      },
      "source": [
        "<a href=\"https://colab.research.google.com/github/Tyler-Pickett/Wiki_Scrape/blob/main/WikiScrape.ipynb\" target=\"_parent\"><img src=\"https://colab.research.google.com/assets/colab-badge.svg\" alt=\"Open In Colab\"/></a>"
      ]
    },
    {
      "cell_type": "markdown",
      "source": [
        "Requirements\n",
        "  \n",
        "    Requests: An effiecient HTTP library, to access web pages\n",
        "    Urlib3: Retrieves data from URLs\n",
        "    Selenium: Open-Source automated testing suite for web applications across different browsers and platforms"
      ],
      "metadata": {
        "id": "NNK4LEY70pIw"
      }
    },
    {
      "cell_type": "code",
      "execution_count": null,
      "metadata": {
        "colab": {
          "base_uri": "https://localhost:8080/"
        },
        "id": "3_6V1y820UoO",
        "outputId": "94154116-272e-4af2-85d4-ea8a3af3fc65"
      },
      "outputs": [
        {
          "output_type": "stream",
          "name": "stdout",
          "text": [
            "Looking in indexes: https://pypi.org/simple, https://us-python.pkg.dev/colab-wheels/public/simple/\n",
            "Requirement already satisfied: selenium in /usr/local/lib/python3.8/dist-packages (4.8.2)\n",
            "Requirement already satisfied: certifi>=2021.10.8 in /usr/local/lib/python3.8/dist-packages (from selenium) (2022.12.7)\n",
            "Requirement already satisfied: trio~=0.17 in /usr/local/lib/python3.8/dist-packages (from selenium) (0.22.0)\n",
            "Requirement already satisfied: urllib3[socks]~=1.26 in /usr/local/lib/python3.8/dist-packages (from selenium) (1.26.14)\n",
            "Requirement already satisfied: trio-websocket~=0.9 in /usr/local/lib/python3.8/dist-packages (from selenium) (0.9.2)\n",
            "Requirement already satisfied: idna in /usr/local/lib/python3.8/dist-packages (from trio~=0.17->selenium) (2.10)\n",
            "Requirement already satisfied: attrs>=19.2.0 in /usr/local/lib/python3.8/dist-packages (from trio~=0.17->selenium) (22.2.0)\n",
            "Requirement already satisfied: async-generator>=1.9 in /usr/local/lib/python3.8/dist-packages (from trio~=0.17->selenium) (1.10)\n",
            "Requirement already satisfied: sniffio in /usr/local/lib/python3.8/dist-packages (from trio~=0.17->selenium) (1.3.0)\n",
            "Requirement already satisfied: outcome in /usr/local/lib/python3.8/dist-packages (from trio~=0.17->selenium) (1.2.0)\n",
            "Requirement already satisfied: sortedcontainers in /usr/local/lib/python3.8/dist-packages (from trio~=0.17->selenium) (2.4.0)\n",
            "Requirement already satisfied: exceptiongroup>=1.0.0rc9 in /usr/local/lib/python3.8/dist-packages (from trio~=0.17->selenium) (1.1.0)\n",
            "Requirement already satisfied: wsproto>=0.14 in /usr/local/lib/python3.8/dist-packages (from trio-websocket~=0.9->selenium) (1.2.0)\n",
            "Requirement already satisfied: PySocks!=1.5.7,<2.0,>=1.5.6 in /usr/local/lib/python3.8/dist-packages (from urllib3[socks]~=1.26->selenium) (1.7.1)\n",
            "Requirement already satisfied: h11<1,>=0.9.0 in /usr/local/lib/python3.8/dist-packages (from wsproto>=0.14->trio-websocket~=0.9->selenium) (0.14.0)\n"
          ]
        }
      ],
      "source": [
        "# Installs dependent on Colab\n",
        "# pip install virtualenv\n",
        "# python -m pip install requests\n",
        "# !pip install urllib3\n",
        "!pip install selenium"
      ]
    },
    {
      "cell_type": "code",
      "source": [
        "import requests\n",
        "import urllib3\n",
        "import selenium\n",
        "from bs4 import BeautifulSoup"
      ],
      "metadata": {
        "id": "Xe8htkWE150f"
      },
      "execution_count": null,
      "outputs": []
    },
    {
      "cell_type": "code",
      "source": [
        "# get URL\n",
        "main_page = requests.get(\"https://en.wikipedia.org/wiki/Main_Page\")\n",
        "\n",
        "# show status code\n",
        "print(main_page.status_code)\n",
        "\n",
        "# scrape data\n",
        "soup = BeautifulSoup(main_page.content, 'html.parser')\n",
        "\n",
        "# display scraped\n",
        "print(soup.prettify())"
      ],
      "metadata": {
        "id": "S2DEKrHS2gRV"
      },
      "execution_count": null,
      "outputs": []
    },
    {
      "cell_type": "code",
      "source": [
        "list(soup.children)\n",
        "\n",
        "# find all occurrence of p in HTML(includes html tags)\n",
        "print(soup.find_all('p'))\n",
        "\n",
        "print('\\n\\n')\n",
        "\n",
        "# returns only text(without HTML tags)\n",
        "print(soup.find_all('p')[0].get_text())"
      ],
      "metadata": {
        "colab": {
          "base_uri": "https://localhost:8080/"
        },
        "id": "lKNdciR_3FOW",
        "outputId": "f7579807-1dde-4949-ae54-aa15dd516420"
      },
      "execution_count": null,
      "outputs": [
        {
          "output_type": "stream",
          "name": "stdout",
          "text": [
            "[<p><b><a href=\"/wiki/Ibn_al-Ash%27ath\" title=\"Ibn al-Ash'ath\">Ibn al-Ash'ath</a></b> (died 704) was an Arab nobleman and military commander during the <a href=\"/wiki/Umayyad_Caliphate\" title=\"Umayyad Caliphate\">Umayyad Caliphate</a>. He played a minor role in the <a href=\"/wiki/Second_Fitna\" title=\"Second Fitna\">Second Fitna</a> and then served as governor of <a href=\"/wiki/Ray,_Iran\" title=\"Ray, Iran\">Rayy</a>. After the appointment of <a href=\"/wiki/Al-Hajjaj_ibn_Yusuf\" title=\"Al-Hajjaj ibn Yusuf\">al-Hajjaj ibn Yusuf</a> as <a href=\"/wiki/List_of_Umayyad_governors_of_Iraq\" title=\"List of Umayyad governors of Iraq\">governor of Iraq</a> in 694, relations with the Iraqi tribal nobility became strained. In 699, al-Hajjaj appointed Ibn al-Ash'ath as commander of a huge Iraqi army to subdue <a href=\"/wiki/Zabulistan\" title=\"Zabulistan\">Zabulistan</a>. In 700, Ibn al-Ash'ath and the army revolted. This developed into a full-fledged anti-Umayyad rebellion, with widespread support, especially among the religious zealots known as \"<a href=\"/wiki/Quran\" title=\"Quran\">Quran</a> readers\". The rebel army was decisively defeated by al-Hajjaj's <a href=\"/wiki/Bilad_al-Sham\" title=\"Bilad al-Sham\">Syrian</a> troops at the <a href=\"/wiki/Battle_of_Dayr_al-Jamajim\" title=\"Battle of Dayr al-Jamajim\">Battle of Dayr al-Jamajim</a>. Ibn al-Ash'ath fled to Zabulistan. His fate is unclear; some accounts hold that he was executed there, while most claim that he committed suicide to avoid capture. The suppression of Ibn al-Ash'ath's revolt signalled the end of the power of the tribal nobility of Iraq. (<b><a href=\"/wiki/Ibn_al-Ash%27ath\" title=\"Ibn al-Ash'ath\">Full article...</a></b>)\n",
            "</p>, <p><b><a href=\"/wiki/February_27\" title=\"February 27\">February 27</a></b>: <a href=\"/wiki/Calendar_of_saints\" title=\"Calendar of saints\">Feast day</a> of <b><a href=\"/wiki/Gregory_of_Narek\" title=\"Gregory of Narek\">Saint Gregory of Narek</a></b> (<a href=\"/wiki/Catholic_Church\" title=\"Catholic Church\">Catholicism</a>)\n",
            "</p>, <p><b><a href=\"/wiki/List_of_Billboard_Best-Selling_Popular_Record_Albums_number_ones_of_1946\" title=\"List of Billboard Best-Selling Popular Record Albums number ones of 1946\">In 1946, twelve albums by eleven artists</a></b> topped <i><a href=\"/wiki/Billboard_(magazine)\" title=\"Billboard (magazine)\">Billboard</a></i><span class=\"nowrap\" style=\"padding-left:0.1em;\">'s</span> weekly chart of the best-selling <a href=\"/wiki/Album\" title=\"Album\">albums</a> in the United States. At the time, the chart was titled <a href=\"/wiki/Billboard_200\" title=\"Billboard 200\">Best-Selling Popular Record Albums</a>, and it collected sales data from United States-based record dealers, numbering at least 200 in January and increasing to over 4,000 by the end of the year. The first chart-topper was <i><a href=\"/wiki/Merry_Christmas_(Bing_Crosby_album)\" title=\"Merry Christmas (Bing Crosby album)\">Merry Christmas</a></i>, a Christmas compilation album by <a href=\"/wiki/Bing_Crosby\" title=\"Bing Crosby\">Bing Crosby</a>. It reached the top in December 1945 and peaked for two more weeks in January 1946, for a total of six consecutive weeks at number one. It again reached the top in late November for an additional six weeks, making it the longest-reigning album of the year. The second-longest-reigning album of the <a href=\"/wiki/List_of_Billboard_Best-Selling_Popular_Record_Albums_number_ones_of_1945\" title=\"List of Billboard Best-Selling Popular Record Albums number ones of 1945\">previous year</a>, <i><a href=\"/wiki/Glenn_Miller_(album)\" title=\"Glenn Miller (album)\">Glenn Miller</a></i>, recorded by <a href=\"/wiki/Glenn_Miller\" title=\"Glenn Miller\">Glenn Miller &amp; His Orchestra</a> <i>(pictured)</i>, again reached the top for an additional five weeks. The album was crowned as the best-selling album of the year and certified gold by the <a href=\"/wiki/Recording_Industry_Association_of_America\" title=\"Recording Industry Association of America\">Recording Industry Association of America</a> in 1968. (<b><a href=\"/wiki/List_of_Billboard_Best-Selling_Popular_Record_Albums_number_ones_of_1946\" title=\"List of Billboard Best-Selling Popular Record Albums number ones of 1946\">Full list...</a></b>)\n",
            "</p>, <p>The <b><a href=\"/wiki/Blue-billed_duck\" title=\"Blue-billed duck\">blue-billed duck</a></b> (<i>Oxyura australis</i>) is a small Australian <a href=\"/wiki/Stiff-tailed_duck\" title=\"Stiff-tailed duck\">stiff-tailed duck</a>, with both the male and female growing to a length of 40 centimetres (16 in). The male has a slate-blue bill which changes to bright-blue during the breeding season, which gives the duck its common name. The male has deep chestnut <a href=\"/wiki/Plumage\" title=\"Plumage\">plumage</a> during breeding season, reverting to a dark grey. The female retains black plumage with brown tips all year round. The duck is <a href=\"/wiki/Endemism\" title=\"Endemism\">endemic</a> to Australia's <a href=\"/wiki/Temperate_climate\" title=\"Temperate climate\">temperate</a> regions, inhabiting natural inland <a href=\"/wiki/Wetland\" title=\"Wetland\">wetlands</a> and also artificial wetlands, such as sewage ponds, in large numbers. It can be difficult to observe due to its <a href=\"/wiki/Crypsis\" title=\"Crypsis\">cryptic</a> nature during its breeding season through autumn and winter. The male duck exhibits a complex mating ritual. The species is <a href=\"/wiki/Omnivore\" title=\"Omnivore\">omnivorous</a>, with a preference for small aquatic <a href=\"/wiki/Invertebrate\" title=\"Invertebrate\">invertebrates</a>. This male blue-billed duck was photographed near <a href=\"/wiki/Penrith,_New_South_Wales\" title=\"Penrith, New South Wales\">Penrith, New South Wales</a>, in 2020.\n",
            "</p>, <p style=\"text-align:center;\"><small>Photograph credit: <a href=\"/wiki/User:JJ_Harrison\" title=\"User:JJ Harrison\">John Harrison</a></small></p>, <p>Wikipedia is written by volunteer editors and hosted by the <a href=\"/wiki/Wikimedia_Foundation\" title=\"Wikimedia Foundation\">Wikimedia Foundation</a>, a non-profit organization that also hosts a range of other volunteer <a class=\"extiw\" href=\"https://wikimediafoundation.org/our-work/wikimedia-projects/\" title=\"foundationsite:our-work/wikimedia-projects/\">projects</a>:\n",
            "</p>, <p>This Wikipedia is written in <a href=\"/wiki/English_language\" title=\"English language\">English</a>. Many <a class=\"extiw\" href=\"https://meta.wikimedia.org/wiki/List_of_Wikipedias\" title=\"meta:List of Wikipedias\">other Wikipedias are available</a>; some of the largest are listed below.\n",
            "</p>]\n",
            "\n",
            "\n",
            "\n",
            "Ibn al-Ash'ath (died 704) was an Arab nobleman and military commander during the Umayyad Caliphate. He played a minor role in the Second Fitna and then served as governor of Rayy. After the appointment of al-Hajjaj ibn Yusuf as governor of Iraq in 694, relations with the Iraqi tribal nobility became strained. In 699, al-Hajjaj appointed Ibn al-Ash'ath as commander of a huge Iraqi army to subdue Zabulistan. In 700, Ibn al-Ash'ath and the army revolted. This developed into a full-fledged anti-Umayyad rebellion, with widespread support, especially among the religious zealots known as \"Quran readers\". The rebel army was decisively defeated by al-Hajjaj's Syrian troops at the Battle of Dayr al-Jamajim. Ibn al-Ash'ath fled to Zabulistan. His fate is unclear; some accounts hold that he was executed there, while most claim that he committed suicide to avoid capture. The suppression of Ibn al-Ash'ath's revolt signalled the end of the power of the tribal nobility of Iraq. (Full article...)\n",
            "\n"
          ]
        }
      ]
    },
    {
      "cell_type": "code",
      "source": [
        "# create object\n",
        "object = soup.find(id=\"mp-left\")\n",
        "\n",
        "# find tags\n",
        "items = object.find_all(class_=\"mp-h2\")\n",
        "result = items[0]\n",
        "\n",
        "# display tags\n",
        "print(result.prettify())"
      ],
      "metadata": {
        "colab": {
          "base_uri": "https://localhost:8080/"
        },
        "id": "Wt2RzUDmAtZ2",
        "outputId": "33a31046-a1d8-4310-b2ec-763c8a5251bc"
      },
      "execution_count": null,
      "outputs": [
        {
          "output_type": "stream",
          "name": "stdout",
          "text": [
            "<h2 class=\"mp-h2\" id=\"mp-tfa-h2\">\n",
            " <span id=\"From_today.27s_featured_article\">\n",
            " </span>\n",
            " <span class=\"mw-headline\" id=\"From_today's_featured_article\">\n",
            "  From today's featured article\n",
            " </span>\n",
            "</h2>\n",
            "\n"
          ]
        }
      ]
    },
    {
      "cell_type": "code",
      "source": [],
      "metadata": {
        "id": "YhPMT0c5Bl5O"
      },
      "execution_count": null,
      "outputs": []
    }
  ]
}